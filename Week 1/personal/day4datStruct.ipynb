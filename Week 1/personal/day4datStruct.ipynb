{
 "cells": [
  {
   "cell_type": "markdown",
   "metadata": {},
   "source": [
    "list and tuples"
   ]
  },
  {
   "cell_type": "code",
   "execution_count": 2,
   "metadata": {},
   "outputs": [
    {
     "name": "stdout",
     "output_type": "stream",
     "text": [
      "['Anuj', 'Ashim', 'samrid']\n"
     ]
    }
   ],
   "source": [
    "#list\n",
    "mentor_name=[\"Anuj\",'Ashim','samrid'];\n",
    "#accesing list values\n",
    "#index always start from 0\n",
    "print(mentor_name);"
   ]
  },
  {
   "cell_type": "code",
   "execution_count": 6,
   "metadata": {},
   "outputs": [
    {
     "name": "stdout",
     "output_type": "stream",
     "text": [
      "['Anuj', 'Ashim', 'samrid', 'NAME', 'NAME', 'NAME']\n",
      "['Anuj', 'Ashim', 'NAME', 'NAME', 'NAME']\n"
     ]
    }
   ],
   "source": [
    "#add something to list\n",
    "mentor_name.append('NAME');\n",
    "print(mentor_name);\n",
    "#pop something\n",
    "mentor_name.pop(2);\n",
    "print(mentor_name);\n",
    "#insert something\n",
    "mentor_name.insert(0,'ana)';\n"
   ]
  },
  {
   "cell_type": "markdown",
   "metadata": {},
   "source": [
    "Method\tDescription\n",
    "\n",
    "append()\tAdds an element at the end of the list\n",
    "clear()\tRemoves all the elements from the list\n",
    "copy()\tReturns a copy of the list\n",
    "count()\tReturns the number of elements with the specified value\n",
    "extend()\tAdd the elements of a list (or any iterable), to the end of the current list\n",
    "index()\tReturns the index of the first element with the specified value\n",
    "insert()\tAdds an element at the specified position\n",
    "pop()\tRemoves the element at the specified position\n",
    "remove()\tRemoves the first item with the specified value\n",
    "reverse()\tReverses the order of the list\n",
    "sort()\tSorts the list"
   ]
  },
  {
   "cell_type": "code",
   "execution_count": null,
   "metadata": {},
   "outputs": [],
   "source": [
    "#string is imputable\n"
   ]
  },
  {
   "cell_type": "markdown",
   "metadata": {},
   "source": [
    "list VS tuple\n",
    "list:\n",
    "1.initialization->[1,2]\n",
    "2.mutable\n",
    "\n",
    "tuple:\n",
    "1.initialization->['smtg','smtg']\n",
    "2.immutable\n",
    "//modify garna pardaina vani we can use tuple\n",
    "\n",
    "until and unless we need to add values use tuple.\n",
    "//generators and iterable"
   ]
  },
  {
   "cell_type": "code",
   "execution_count": 7,
   "metadata": {},
   "outputs": [
    {
     "name": "stdout",
     "output_type": "stream",
     "text": [
      "red\n",
      "voilet\n",
      "green\n",
      "orange\n"
     ]
    }
   ],
   "source": [
    "#tuple\n",
    "rainbow_colors=('red','voilet','green','orange')\n",
    "for color in rainbow_colors:\n",
    "    print(color);"
   ]
  },
  {
   "cell_type": "code",
   "execution_count": null,
   "metadata": {},
   "outputs": [],
   "source": [
    "index"
   ]
  }
 ],
 "metadata": {
  "kernelspec": {
   "display_name": "Python 3.11.0 64-bit",
   "language": "python",
   "name": "python3"
  },
  "language_info": {
   "codemirror_mode": {
    "name": "ipython",
    "version": 3
   },
   "file_extension": ".py",
   "mimetype": "text/x-python",
   "name": "python",
   "nbconvert_exporter": "python",
   "pygments_lexer": "ipython3",
   "version": "3.11.0"
  },
  "orig_nbformat": 4,
  "vscode": {
   "interpreter": {
    "hash": "5238573367df39f7286bb46f9ff5f08f63a01a80960060ce41e3c79b190280fa"
   }
  }
 },
 "nbformat": 4,
 "nbformat_minor": 2
}
