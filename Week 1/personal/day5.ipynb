{
 "cells": [
  {
   "cell_type": "code",
   "execution_count": null,
   "metadata": {},
   "outputs": [],
   "source": [
    "#login system\n",
    "user_pass:{'duck':'pond';'chicken':egg}\n",
    "userName=input('Enter your Username to login');\n",
    "PassWord=input('Enter your password';)\n",
    "realpassword=u"
   ]
  },
  {
   "cell_type": "markdown",
   "metadata": {},
   "source": []
  },
  {
   "cell_type": "markdown",
   "metadata": {},
   "source": []
  },
  {
   "cell_type": "code",
   "execution_count": null,
   "metadata": {},
   "outputs": [],
   "source": [
    "import random\n",
    "choice=['Rock','Paper','scissors']\n",
    "\n",
    "for round in range(1,6):\n",
    "   print('round'round'start')\n",
    "    userChoice=int(input('enter your choice 1.Rock 2.Paper 3.scissors:'))\n",
    "    if userChoice==1:\n",
    "        print('you choose Rock')\n",
    "    elif userChoice==2:\n",
    "        print('your choose Paper')\n",
    "    elif userChoice==3:\n",
    "        print('you choose scissors')  \n",
    "    else :\n",
    "        print('Invalid Choice')\n"
   ]
  },
  {
   "cell_type": "markdown",
   "metadata": {},
   "source": []
  }
 ],
 "metadata": {
  "kernelspec": {
   "display_name": "Python 3.11.0 64-bit",
   "language": "python",
   "name": "python3"
  },
  "language_info": {
   "name": "python",
   "version": "3.11.0"
  },
  "orig_nbformat": 4,
  "vscode": {
   "interpreter": {
    "hash": "5238573367df39f7286bb46f9ff5f08f63a01a80960060ce41e3c79b190280fa"
   }
  }
 },
 "nbformat": 4,
 "nbformat_minor": 2
}
