{
 "cells": [
  {
   "cell_type": "markdown",
   "metadata": {},
   "source": [
    "conditional statement\n",
    "//driving licence\n",
    "input age(string ko form ma hunxa)\n",
    "tyo age lai integer ma convert\n",
    "conditon check"
   ]
  },
  {
   "cell_type": "code",
   "execution_count": 1,
   "metadata": {},
   "outputs": [
    {
     "name": "stdout",
     "output_type": "stream",
     "text": [
      "you are old enough of have licence\n"
     ]
    }
   ],
   "source": [
    "#get users age\n",
    "\n",
    "age_string=input(\"what is your age\");\n",
    "\n",
    "#convert age into string\n",
    "age=int(age_string);\n",
    "#condition inseted of curly bracket :space use\n",
    "\n",
    "if age>=16:\n",
    "    print('you are old enough of have licence');\n",
    "else:\n",
    "    print('you cant have licence');    \n"
   ]
  },
  {
   "cell_type": "code",
   "execution_count": 6,
   "metadata": {},
   "outputs": [
    {
     "name": "stdout",
     "output_type": "stream",
     "text": [
      "sorry\n"
     ]
    }
   ],
   "source": [
    "#login system\n",
    "username=input(\"enter your username\");\n",
    "password=input(\"enter your password\");\n",
    "\n",
    "if username=='duck' and password=='123Ankur':\n",
    "    print('you are login');\n",
    "\n",
    "elif username=='parul' and password=='123yoyo':\n",
    "    print('okay i let you login');\n",
    "else:\n",
    "    print('sorry') ;\n",
    "#elif use garney if you want to use else if       "
   ]
  },
  {
   "cell_type": "markdown",
   "metadata": {},
   "source": [
    "Loop statement"
   ]
  },
  {
   "cell_type": "code",
   "execution_count": null,
   "metadata": {},
   "outputs": [],
   "source": []
  },
  {
   "cell_type": "code",
   "execution_count": null,
   "metadata": {},
   "outputs": [],
   "source": []
  },
  {
   "cell_type": "markdown",
   "metadata": {},
   "source": []
  },
  {
   "cell_type": "code",
   "execution_count": null,
   "metadata": {},
   "outputs": [],
   "source": []
  },
  {
   "cell_type": "code",
   "execution_count": null,
   "metadata": {},
   "outputs": [],
   "source": []
  }
 ],
 "metadata": {
  "kernelspec": {
   "display_name": "Python 3.11.0 64-bit",
   "language": "python",
   "name": "python3"
  },
  "language_info": {
   "codemirror_mode": {
    "name": "ipython",
    "version": 3
   },
   "file_extension": ".py",
   "mimetype": "text/x-python",
   "name": "python",
   "nbconvert_exporter": "python",
   "pygments_lexer": "ipython3",
   "version": "3.11.0"
  },
  "orig_nbformat": 4,
  "vscode": {
   "interpreter": {
    "hash": "5238573367df39f7286bb46f9ff5f08f63a01a80960060ce41e3c79b190280fa"
   }
  }
 },
 "nbformat": 4,
 "nbformat_minor": 2
}
