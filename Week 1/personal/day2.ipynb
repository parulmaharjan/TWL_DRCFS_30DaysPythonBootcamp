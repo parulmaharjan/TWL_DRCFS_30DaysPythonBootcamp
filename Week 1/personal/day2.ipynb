{
 "cells": [
  {
   "cell_type": "markdown",
   "metadata": {},
   "source": [
    "conditional statement\n",
    "//driving licence\n",
    "input age(string ko form ma hunxa)\n",
    "tyo age lai integer ma convert\n",
    "conditon check"
   ]
  },
  {
   "cell_type": "code",
   "execution_count": 1,
   "metadata": {},
   "outputs": [
    {
     "name": "stdout",
     "output_type": "stream",
     "text": [
      "you are old enough of have licence\n"
     ]
    }
   ],
   "source": [
    "#get users age\n",
    "\n",
    "age_string=input(\"what is your age\");\n",
    "\n",
    "#convert age into string\n",
    "age=int(age_string);\n",
    "#condition inseted of curly bracket :space use\n",
    "\n",
    "if age>=16:\n",
    "    print('you are old enough of have licence');\n",
    "else:\n",
    "    print('you cant have licence');    \n"
   ]
  },
  {
   "cell_type": "code",
   "execution_count": 6,
   "metadata": {},
   "outputs": [
    {
     "name": "stdout",
     "output_type": "stream",
     "text": [
      "sorry\n"
     ]
    }
   ],
   "source": [
    "#login system\n",
    "username=input(\"enter your username\");\n",
    "password=input(\"enter your password\");\n",
    "\n",
    "if username=='duck' and password=='123Ankur':\n",
    "    print('you are login');\n",
    "\n",
    "elif username=='parul' and password=='123yoyo':\n",
    "    print('okay i let you login');\n",
    "else:\n",
    "    print('sorry') ;\n",
    "#elif use garney if you want to use else if       "
   ]
  },
  {
   "cell_type": "markdown",
   "metadata": {},
   "source": [
    "Loop statement (multiple kura repeat)\n",
    "types of loop\n",
    "1.for loop//pre known\n",
    "2.while loop//kati choti run garnu xa tha nahuda we use while loop"
   ]
  },
  {
   "cell_type": "code",
   "execution_count": 8,
   "metadata": {},
   "outputs": [
    {
     "name": "stdout",
     "output_type": "stream",
     "text": [
      "0\n",
      "1\n",
      "2\n",
      "3\n",
      "4\n",
      "5\n",
      "6\n",
      "7\n",
      "8\n",
      "9\n"
     ]
    }
   ],
   "source": [
    "for i in range(1 ,11): #loop garda 1st ko kura jasta ko astai and last kura print hunna nava range ma (10)halda 0-9 hunxa\n",
    "    print(i);\n"
   ]
  },
  {
   "cell_type": "code",
   "execution_count": 12,
   "metadata": {},
   "outputs": [
    {
     "name": "stdout",
     "output_type": "stream",
     "text": [
      "1is odd\n",
      "2is even\n",
      "3is odd\n",
      "4is even\n",
      "5is odd\n",
      "6is even\n",
      "7is odd\n",
      "8is even\n",
      "9is odd\n",
      "10is even\n",
      "11is odd\n",
      "12is even\n",
      "13is odd\n",
      "14is even\n",
      "15is odd\n",
      "16is even\n",
      "17is odd\n",
      "18is even\n",
      "19is odd\n",
      "20is even\n"
     ]
    }
   ],
   "source": [
    "#odd and even\n",
    "for i in range (1,21):\n",
    "    if i%2==0:\n",
    "        print(str(i) +'is even');\n",
    "    else:\n",
    "        print(str(i)+'is odd');    "
   ]
  },
  {
   "cell_type": "markdown",
   "metadata": {},
   "source": []
  },
  {
   "cell_type": "code",
   "execution_count": null,
   "metadata": {},
   "outputs": [],
   "source": [
    "#for(i=0;i<10;i--)\n",
    "for i in range(1,10,-1):\n",
    "     if i%2==0:\n",
    "            print(str(i) +'is even');\n",
    "    else:\n",
    "        print(str(i)+'is odd');    \n",
    "    "
   ]
  },
  {
   "cell_type": "markdown",
   "metadata": {},
   "source": [
    "how range works\n",
    "1. range(10) 0-9 print hunxa\n",
    "2.range(1,11) 1-10 print hnxa\n",
    "3.range(10,1,-1)10-2 samma print hunxa"
   ]
  },
  {
   "cell_type": "code",
   "execution_count": null,
   "metadata": {},
   "outputs": [],
   "source": []
  },
  {
   "cell_type": "code",
   "execution_count": null,
   "metadata": {},
   "outputs": [],
   "source": []
  }
 ],
 "metadata": {
  "kernelspec": {
   "display_name": "Python 3.11.0 64-bit",
   "language": "python",
   "name": "python3"
  },
  "language_info": {
   "codemirror_mode": {
    "name": "ipython",
    "version": 3
   },
   "file_extension": ".py",
   "mimetype": "text/x-python",
   "name": "python",
   "nbconvert_exporter": "python",
   "pygments_lexer": "ipython3",
   "version": "3.11.0"
  },
  "orig_nbformat": 4,
  "vscode": {
   "interpreter": {
    "hash": "5238573367df39f7286bb46f9ff5f08f63a01a80960060ce41e3c79b190280fa"
   }
  }
 },
 "nbformat": 4,
 "nbformat_minor": 2
}
